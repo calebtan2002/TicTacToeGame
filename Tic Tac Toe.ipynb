{
 "cells": [
  {
   "cell_type": "code",
   "execution_count": 1,
   "id": "e7eb6494",
   "metadata": {},
   "outputs": [],
   "source": [
    "from IPython.display import clear_output\n",
    "def display_board(board):\n",
    "    print(f'''|{board[1]}|{board[2]}|{board[3]}|\n",
    "|{board[4]}|{board[5]}|{board[6]}|\n",
    "|{board[7]}|{board[8]}|{board[9]}|''')\n",
    "    \n",
    "   \n"
   ]
  },
  {
   "cell_type": "code",
   "execution_count": 2,
   "id": "ced6c610",
   "metadata": {},
   "outputs": [],
   "source": [
    "def player_input():\n",
    "    marker = 'WRONG'\n",
    "    while marker not in ['X','O']:\n",
    "        marker = input(\"Player 1, what icon do you want yours to be -'X' or 'O'?: \").upper()\n",
    "        if marker not in ['X','O']:\n",
    "            print(\"Please type the correct icon\")\n",
    "    if marker == 'X':\n",
    "        return ('X', 'O')\n",
    "    else:\n",
    "        return ('O', 'X')"
   ]
  },
  {
   "cell_type": "code",
   "execution_count": 3,
   "id": "b8b7ea29",
   "metadata": {},
   "outputs": [],
   "source": [
    "def place_marker(board, marker, position):\n",
    "    board[position] = marker"
   ]
  },
  {
   "cell_type": "code",
   "execution_count": 4,
   "id": "89ffb1e6",
   "metadata": {},
   "outputs": [],
   "source": [
    "def win_check(board,marker):\n",
    "    return ((board[7] == marker and board[8] == marker and board[9] == marker) or # across the top\n",
    "    (board[4] == marker and board[5] == marker and board[6] == marker) or # across the middle\n",
    "    (board[1] == marker and board[2] == marker and board[3] == marker) or # across the bottom\n",
    "    (board[7] == marker and board[4] == marker and board[1] == marker) or # down the middle\n",
    "    (board[8] == marker and board[5] == marker and board[2] == marker) or # down the middle\n",
    "    (board[9] == marker and board[6] == marker and board[3] == marker) or # down the right side\n",
    "    (board[7] == marker and board[5] == marker and board[3] == marker) or # diagonal\n",
    "    (board[9] == marker and board[5] == marker and board[1] == marker)) # diagonal\n",
    "          "
   ]
  },
  {
   "cell_type": "code",
   "execution_count": 5,
   "id": "797fff59",
   "metadata": {},
   "outputs": [],
   "source": [
    "import random\n",
    "\n",
    "def choose_first():\n",
    "    playerno = random.randint(1,2)\n",
    "    if playerno == 2:\n",
    "       return 'Player 2'\n",
    "    else:\n",
    "       return 'Player 1'\n",
    "    "
   ]
  },
  {
   "cell_type": "code",
   "execution_count": 6,
   "id": "acae49e9",
   "metadata": {},
   "outputs": [],
   "source": [
    "def space_check(board, position):\n",
    "    return board[position] == ' '"
   ]
  },
  {
   "cell_type": "code",
   "execution_count": 7,
   "id": "ba0c4d4b",
   "metadata": {},
   "outputs": [],
   "source": [
    "def full_board_check(board):\n",
    "    for i in range(1,10):\n",
    "        if space_check(board,i):\n",
    "            return False\n",
    "    return True"
   ]
  },
  {
   "cell_type": "code",
   "execution_count": 8,
   "id": "6ed15be8",
   "metadata": {},
   "outputs": [],
   "source": [
    "def player_choice(board):\n",
    "    position = 0\n",
    "    while position not in [1,2,3,4,5,6,7,8,9] or not space_check(board, position):\n",
    "        position = int(input('Choose your position: (1-9) '))\n",
    "        \n",
    "    return position\n",
    "        "
   ]
  },
  {
   "cell_type": "code",
   "execution_count": 9,
   "id": "f1d9b0a3",
   "metadata": {},
   "outputs": [],
   "source": [
    "def replay():\n",
    "    play_again = input('Do you want to play again? Enter Yes or No: ')\n",
    "    return play_again.lower() == 'y' or play_again == 'Yes'"
   ]
  },
  {
   "cell_type": "code",
   "execution_count": null,
   "id": "eb33bcd8",
   "metadata": {},
   "outputs": [
    {
     "name": "stdout",
     "output_type": "stream",
     "text": [
      "Let's play Tic Tac Toe!\n"
     ]
    }
   ],
   "source": [
    "print(\"Let's play Tic Tac Toe!\")\n",
    "while True:\n",
    "    fullboard = [' '] * 10\n",
    "    player1_marker,player2_marker = player_input()\n",
    "    turn = choose_first()\n",
    "    print(turn +' goes first')\n",
    "    start_game = input(\"Are you ready to start playing? Yes or No \").capitalize()\n",
    "    if start_game == \"Yes\":\n",
    "        game_on = True\n",
    "    else: game_on = False\n",
    "    while game_on:\n",
    "        if turn == 'Player 1':\n",
    "            display_board(fullboard)\n",
    "            position = player_choice(fullboard)\n",
    "            place_marker(fullboard,player1_marker,position)\n",
    "            if win_check(fullboard,player1_marker):\n",
    "                display_board(fullboard)\n",
    "                print('You win')\n",
    "                game_on = False\n",
    "            else:\n",
    "                if full_board_check(fullboard):\n",
    "                    display_board(fullboard)\n",
    "                    print('You guys have tied the game!')\n",
    "                    game_on = False\n",
    "                else:\n",
    "                    print(\"Player 2's turn\")\n",
    "                    turn = 'Player 2'\n",
    "        else:\n",
    "            display_board(fullboard)\n",
    "            position = player_choice(fullboard)\n",
    "            place_marker(fullboard,player2_marker,position)\n",
    "            if win_check(fullboard,player2_marker):\n",
    "                display_board(fullboard)\n",
    "                print('You win')\n",
    "                game_on = False\n",
    "            else:\n",
    "                if full_board_check(fullboard):\n",
    "                    display_board(fullboard)\n",
    "                    print('You guys have tied the game!')\n",
    "                    game_on = False\n",
    "                else:\n",
    "                    print(\"Player 1's turn\")\n",
    "                    turn = 'Player 1'\n",
    "    if not replay():\n",
    "        break\n",
    "    "
   ]
  },
  {
   "cell_type": "markdown",
   "id": "57b7c17b",
   "metadata": {},
   "source": [
    "## "
   ]
  }
 ],
 "metadata": {
  "kernelspec": {
   "display_name": "Python 3",
   "language": "python",
   "name": "python3"
  },
  "language_info": {
   "codemirror_mode": {
    "name": "ipython",
    "version": 3
   },
   "file_extension": ".py",
   "mimetype": "text/x-python",
   "name": "python",
   "nbconvert_exporter": "python",
   "pygments_lexer": "ipython3",
   "version": "3.8.8"
  }
 },
 "nbformat": 4,
 "nbformat_minor": 5
}
